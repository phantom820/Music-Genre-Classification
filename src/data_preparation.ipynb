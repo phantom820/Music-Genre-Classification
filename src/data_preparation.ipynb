{
 "cells": [
  {
   "cell_type": "code",
   "execution_count": 7,
   "metadata": {},
   "outputs": [],
   "source": [
    "import glob\n",
    "import numpy as np\n",
    "import pandas as pd\n",
    "import sklearn"
   ]
  },
  {
   "cell_type": "markdown",
   "metadata": {},
   "source": [
    "# Data Preparation\n",
    "\n",
    "The GTZAN dataset is one of the most popular datasets in MIR, it consists of a $1\\ 000$ music pieces of $30$ seconds duration each with $100$ samples in each of $10$ different music genres. The genres in the dataset are\n",
    "\n",
    "- Blues\n",
    "- Clasical\n",
    "- Country\n",
    "- Disco\n",
    "- HipHop\n",
    "- Jazz\n",
    "- Metal\n",
    "- Pop\n",
    "- Reggae\n",
    "- Rock\n",
    "\n",
    "We desire to extract features from the provided audio files and perfom music genre classification. The dataset must first be prepared so that we can conveniently access the audio files. The preparation of the dataset involves the following steps.\n",
    "\n",
    "- Encoding of genres as integers\n",
    "- Dataframe representation of data"
   ]
  },
  {
   "cell_type": "markdown",
   "metadata": {},
   "source": [
    "### Encoding of music genres"
   ]
  },
  {
   "cell_type": "code",
   "execution_count": 8,
   "metadata": {},
   "outputs": [
    {
     "data": {
      "text/plain": [
       "{'blues': 0,\n",
       " 'classical': 1,\n",
       " 'country': 2,\n",
       " 'disco': 3,\n",
       " 'hiphop': 4,\n",
       " 'jazz': 5,\n",
       " 'metal': 6,\n",
       " 'pop': 7,\n",
       " 'reggae': 8,\n",
       " 'rock': 9}"
      ]
     },
     "execution_count": 8,
     "metadata": {},
     "output_type": "execute_result"
    }
   ],
   "source": [
    "genre_names=[\"blues\",\"classical\",\"country\",\"disco\",\"hiphop\",\"jazz\",\"metal\",\"pop\",\"reggae\",\"rock\"]\n",
    "genre_ids=[i for i in range(len(genre_names))]\n",
    "genres={genre_name:genre_id for genre_name,genre_id in zip(genre_names,genre_ids)}\n",
    "genres"
   ]
  },
  {
   "cell_type": "markdown",
   "metadata": {},
   "source": [
    "### Dataframe representation"
   ]
  },
  {
   "cell_type": "code",
   "execution_count": 9,
   "metadata": {},
   "outputs": [],
   "source": [
    "audio_path=\"../data/gtzan/audio/*\""
   ]
  },
  {
   "cell_type": "code",
   "execution_count": 10,
   "metadata": {},
   "outputs": [],
   "source": [
    "def dataframe_representation():\n",
    "    dataframe={\"filename\":[],\"genre\":[],\"genre id\":[]}\n",
    "    for folder in glob.glob(audio_path):\n",
    "        for file in glob.glob(folder+\"/*\"):\n",
    "            dataframe[\"genre\"].append(folder.split(\"/\")[-1])\n",
    "            dataframe[\"genre id\"].append(genres[folder.split('/')[-1]])\n",
    "            dataframe[\"filename\"].append(file)\n",
    "            \n",
    "    dataframe=pd.DataFrame(dataframe)\n",
    "    dataframe=sklearn.utils.shuffle(dataframe)\n",
    "    return dataframe"
   ]
  },
  {
   "cell_type": "code",
   "execution_count": 6,
   "metadata": {},
   "outputs": [
    {
     "data": {
      "text/html": [
       "<div>\n",
       "<style scoped>\n",
       "    .dataframe tbody tr th:only-of-type {\n",
       "        vertical-align: middle;\n",
       "    }\n",
       "\n",
       "    .dataframe tbody tr th {\n",
       "        vertical-align: top;\n",
       "    }\n",
       "\n",
       "    .dataframe thead th {\n",
       "        text-align: right;\n",
       "    }\n",
       "</style>\n",
       "<table border=\"1\" class=\"dataframe\">\n",
       "  <thead>\n",
       "    <tr style=\"text-align: right;\">\n",
       "      <th></th>\n",
       "      <th>filename</th>\n",
       "      <th>genre</th>\n",
       "      <th>genre id</th>\n",
       "    </tr>\n",
       "  </thead>\n",
       "  <tbody>\n",
       "    <tr>\n",
       "      <th>588</th>\n",
       "      <td>../data/gtzan/audio/metal/metal.00099.wav</td>\n",
       "      <td>metal</td>\n",
       "      <td>6</td>\n",
       "    </tr>\n",
       "    <tr>\n",
       "      <th>249</th>\n",
       "      <td>../data/gtzan/audio/rock/rock.00004.wav</td>\n",
       "      <td>rock</td>\n",
       "      <td>9</td>\n",
       "    </tr>\n",
       "    <tr>\n",
       "      <th>599</th>\n",
       "      <td>../data/gtzan/audio/metal/metal.00078.wav</td>\n",
       "      <td>metal</td>\n",
       "      <td>6</td>\n",
       "    </tr>\n",
       "    <tr>\n",
       "      <th>664</th>\n",
       "      <td>../data/gtzan/audio/reggae/reggae.00060.wav</td>\n",
       "      <td>reggae</td>\n",
       "      <td>8</td>\n",
       "    </tr>\n",
       "    <tr>\n",
       "      <th>336</th>\n",
       "      <td>../data/gtzan/audio/country/country.00055.wav</td>\n",
       "      <td>country</td>\n",
       "      <td>2</td>\n",
       "    </tr>\n",
       "  </tbody>\n",
       "</table>\n",
       "</div>"
      ],
      "text/plain": [
       "                                          filename    genre  genre id\n",
       "588      ../data/gtzan/audio/metal/metal.00099.wav    metal         6\n",
       "249        ../data/gtzan/audio/rock/rock.00004.wav     rock         9\n",
       "599      ../data/gtzan/audio/metal/metal.00078.wav    metal         6\n",
       "664    ../data/gtzan/audio/reggae/reggae.00060.wav   reggae         8\n",
       "336  ../data/gtzan/audio/country/country.00055.wav  country         2"
      ]
     },
     "execution_count": 6,
     "metadata": {},
     "output_type": "execute_result"
    }
   ],
   "source": [
    "data=dataframe_representation()\n",
    "data.to_csv(\"../data/gtzan/datasets/data.csv\",index=False)\n",
    "data.head()"
   ]
  }
 ],
 "metadata": {
  "kernelspec": {
   "display_name": "Python 3",
   "language": "python",
   "name": "python3"
  },
  "language_info": {
   "codemirror_mode": {
    "name": "ipython",
    "version": 3
   },
   "file_extension": ".py",
   "mimetype": "text/x-python",
   "name": "python",
   "nbconvert_exporter": "python",
   "pygments_lexer": "ipython3",
   "version": "3.7.7"
  }
 },
 "nbformat": 4,
 "nbformat_minor": 2
}
