{
 "cells": [
  {
   "cell_type": "code",
   "execution_count": 2,
   "metadata": {},
   "outputs": [],
   "source": [
    "import pandas as pd\n",
    "import matplotlib.pyplot as plt\n",
    "import numpy as np\n",
    "from sklearn.neighbors import KNeighborsClassifier\n",
    "from sklearn.naive_bayes import GaussianNB\n",
    "from sklearn.linear_model import LogisticRegression\n",
    "from sklearn import svm\n",
    "from sklearn.tree import DecisionTreeRegressor\n",
    "from sklearn.ensemble import RandomForestClassifier\n",
    "from sklearn.neural_network import MLPClassifier\n",
    "from sklearn.model_selection import cross_validate\n",
    "from joblib import dump, load\n",
    "from sklearn.feature_selection import mutual_info_classif"
   ]
  },
  {
   "cell_type": "markdown",
   "metadata": {},
   "source": [
    "## Load dataset"
   ]
  },
  {
   "cell_type": "code",
   "execution_count": 3,
   "metadata": {
    "scrolled": true
   },
   "outputs": [
    {
     "data": {
      "text/html": [
       "<div>\n",
       "<style scoped>\n",
       "    .dataframe tbody tr th:only-of-type {\n",
       "        vertical-align: middle;\n",
       "    }\n",
       "\n",
       "    .dataframe tbody tr th {\n",
       "        vertical-align: top;\n",
       "    }\n",
       "\n",
       "    .dataframe thead th {\n",
       "        text-align: right;\n",
       "    }\n",
       "</style>\n",
       "<table border=\"1\" class=\"dataframe\">\n",
       "  <thead>\n",
       "    <tr style=\"text-align: right;\">\n",
       "      <th></th>\n",
       "      <th>spectral_centroid_mean</th>\n",
       "      <th>spectral_centroid_std</th>\n",
       "      <th>spectral_rolloff_mean</th>\n",
       "      <th>spectral_rolloff_std</th>\n",
       "      <th>spectral_flux_mean</th>\n",
       "      <th>spectral_flux_std</th>\n",
       "      <th>spectral_flatness_mean</th>\n",
       "      <th>spectral_flatness_std</th>\n",
       "      <th>spectral_crest_mean</th>\n",
       "      <th>spectral_crest_std</th>\n",
       "      <th>...</th>\n",
       "      <th>mfcc50</th>\n",
       "      <th>mfcc51</th>\n",
       "      <th>mfcc52</th>\n",
       "      <th>spectral_contrast1</th>\n",
       "      <th>spectral_contrast2</th>\n",
       "      <th>spectral_contrast3</th>\n",
       "      <th>spectral_contrast4</th>\n",
       "      <th>spectral_contrast5</th>\n",
       "      <th>spectral_contrast6</th>\n",
       "      <th>spectral_contrast7</th>\n",
       "    </tr>\n",
       "  </thead>\n",
       "  <tbody>\n",
       "    <tr>\n",
       "      <th>0</th>\n",
       "      <td>4236.474714</td>\n",
       "      <td>982.606885</td>\n",
       "      <td>8793.280162</td>\n",
       "      <td>1323.747624</td>\n",
       "      <td>0.000076</td>\n",
       "      <td>0.000026</td>\n",
       "      <td>0.605682</td>\n",
       "      <td>0.099881</td>\n",
       "      <td>0.027226</td>\n",
       "      <td>0.017332</td>\n",
       "      <td>...</td>\n",
       "      <td>-1.607495</td>\n",
       "      <td>1.515278</td>\n",
       "      <td>2.070807</td>\n",
       "      <td>18.560327</td>\n",
       "      <td>14.327634</td>\n",
       "      <td>17.295292</td>\n",
       "      <td>18.093087</td>\n",
       "      <td>17.996459</td>\n",
       "      <td>16.877070</td>\n",
       "      <td>17.724842</td>\n",
       "    </tr>\n",
       "    <tr>\n",
       "      <th>1</th>\n",
       "      <td>2812.489293</td>\n",
       "      <td>349.267902</td>\n",
       "      <td>5400.967341</td>\n",
       "      <td>759.916203</td>\n",
       "      <td>0.000069</td>\n",
       "      <td>0.000013</td>\n",
       "      <td>0.270527</td>\n",
       "      <td>0.042840</td>\n",
       "      <td>0.019189</td>\n",
       "      <td>0.006779</td>\n",
       "      <td>...</td>\n",
       "      <td>-0.882777</td>\n",
       "      <td>-0.973334</td>\n",
       "      <td>-6.110501</td>\n",
       "      <td>19.362248</td>\n",
       "      <td>14.040931</td>\n",
       "      <td>16.694309</td>\n",
       "      <td>16.230232</td>\n",
       "      <td>16.095430</td>\n",
       "      <td>16.747360</td>\n",
       "      <td>44.551932</td>\n",
       "    </tr>\n",
       "    <tr>\n",
       "      <th>2</th>\n",
       "      <td>2450.523392</td>\n",
       "      <td>379.859735</td>\n",
       "      <td>5183.285324</td>\n",
       "      <td>793.619668</td>\n",
       "      <td>0.000064</td>\n",
       "      <td>0.000019</td>\n",
       "      <td>0.246184</td>\n",
       "      <td>0.040667</td>\n",
       "      <td>0.024748</td>\n",
       "      <td>0.009379</td>\n",
       "      <td>...</td>\n",
       "      <td>-3.675455</td>\n",
       "      <td>6.209002</td>\n",
       "      <td>3.841052</td>\n",
       "      <td>23.645757</td>\n",
       "      <td>13.455069</td>\n",
       "      <td>17.711881</td>\n",
       "      <td>17.236325</td>\n",
       "      <td>18.260737</td>\n",
       "      <td>17.183554</td>\n",
       "      <td>42.800888</td>\n",
       "    </tr>\n",
       "    <tr>\n",
       "      <th>3</th>\n",
       "      <td>2227.556580</td>\n",
       "      <td>381.427900</td>\n",
       "      <td>4783.371076</td>\n",
       "      <td>864.112446</td>\n",
       "      <td>0.000047</td>\n",
       "      <td>0.000016</td>\n",
       "      <td>0.199687</td>\n",
       "      <td>0.047106</td>\n",
       "      <td>0.037910</td>\n",
       "      <td>0.015577</td>\n",
       "      <td>...</td>\n",
       "      <td>0.928920</td>\n",
       "      <td>1.216654</td>\n",
       "      <td>-4.513656</td>\n",
       "      <td>20.567922</td>\n",
       "      <td>14.943247</td>\n",
       "      <td>18.781786</td>\n",
       "      <td>18.599186</td>\n",
       "      <td>18.818521</td>\n",
       "      <td>18.046930</td>\n",
       "      <td>41.533920</td>\n",
       "    </tr>\n",
       "    <tr>\n",
       "      <th>4</th>\n",
       "      <td>1712.995682</td>\n",
       "      <td>323.886378</td>\n",
       "      <td>3287.380122</td>\n",
       "      <td>671.487712</td>\n",
       "      <td>0.000051</td>\n",
       "      <td>0.000012</td>\n",
       "      <td>0.206120</td>\n",
       "      <td>0.051080</td>\n",
       "      <td>0.041573</td>\n",
       "      <td>0.016614</td>\n",
       "      <td>...</td>\n",
       "      <td>-0.907547</td>\n",
       "      <td>-6.269558</td>\n",
       "      <td>-2.652799</td>\n",
       "      <td>27.290526</td>\n",
       "      <td>16.129215</td>\n",
       "      <td>17.299815</td>\n",
       "      <td>18.574594</td>\n",
       "      <td>18.375764</td>\n",
       "      <td>18.994693</td>\n",
       "      <td>20.393723</td>\n",
       "    </tr>\n",
       "  </tbody>\n",
       "</table>\n",
       "<p>5 rows × 106 columns</p>\n",
       "</div>"
      ],
      "text/plain": [
       "   spectral_centroid_mean  spectral_centroid_std  spectral_rolloff_mean  \\\n",
       "0             4236.474714             982.606885            8793.280162   \n",
       "1             2812.489293             349.267902            5400.967341   \n",
       "2             2450.523392             379.859735            5183.285324   \n",
       "3             2227.556580             381.427900            4783.371076   \n",
       "4             1712.995682             323.886378            3287.380122   \n",
       "\n",
       "   spectral_rolloff_std  spectral_flux_mean  spectral_flux_std  \\\n",
       "0           1323.747624            0.000076           0.000026   \n",
       "1            759.916203            0.000069           0.000013   \n",
       "2            793.619668            0.000064           0.000019   \n",
       "3            864.112446            0.000047           0.000016   \n",
       "4            671.487712            0.000051           0.000012   \n",
       "\n",
       "   spectral_flatness_mean  spectral_flatness_std  spectral_crest_mean  \\\n",
       "0                0.605682               0.099881             0.027226   \n",
       "1                0.270527               0.042840             0.019189   \n",
       "2                0.246184               0.040667             0.024748   \n",
       "3                0.199687               0.047106             0.037910   \n",
       "4                0.206120               0.051080             0.041573   \n",
       "\n",
       "   spectral_crest_std  ...    mfcc50    mfcc51    mfcc52  spectral_contrast1  \\\n",
       "0            0.017332  ... -1.607495  1.515278  2.070807           18.560327   \n",
       "1            0.006779  ... -0.882777 -0.973334 -6.110501           19.362248   \n",
       "2            0.009379  ... -3.675455  6.209002  3.841052           23.645757   \n",
       "3            0.015577  ...  0.928920  1.216654 -4.513656           20.567922   \n",
       "4            0.016614  ... -0.907547 -6.269558 -2.652799           27.290526   \n",
       "\n",
       "   spectral_contrast2  spectral_contrast3  spectral_contrast4  \\\n",
       "0           14.327634           17.295292           18.093087   \n",
       "1           14.040931           16.694309           16.230232   \n",
       "2           13.455069           17.711881           17.236325   \n",
       "3           14.943247           18.781786           18.599186   \n",
       "4           16.129215           17.299815           18.574594   \n",
       "\n",
       "   spectral_contrast5  spectral_contrast6  spectral_contrast7  \n",
       "0           17.996459           16.877070           17.724842  \n",
       "1           16.095430           16.747360           44.551932  \n",
       "2           18.260737           17.183554           42.800888  \n",
       "3           18.818521           18.046930           41.533920  \n",
       "4           18.375764           18.994693           20.393723  \n",
       "\n",
       "[5 rows x 106 columns]"
      ]
     },
     "execution_count": 3,
     "metadata": {},
     "output_type": "execute_result"
    }
   ],
   "source": [
    "data = pd.read_csv(\"../data/gtzan/features/features.csv\")\n",
    "data.head()"
   ]
  },
  {
   "cell_type": "markdown",
   "metadata": {},
   "source": [
    "## Separate features and labels"
   ]
  },
  {
   "cell_type": "code",
   "execution_count": 4,
   "metadata": {},
   "outputs": [
    {
     "data": {
      "text/html": [
       "<div>\n",
       "<style scoped>\n",
       "    .dataframe tbody tr th:only-of-type {\n",
       "        vertical-align: middle;\n",
       "    }\n",
       "\n",
       "    .dataframe tbody tr th {\n",
       "        vertical-align: top;\n",
       "    }\n",
       "\n",
       "    .dataframe thead th {\n",
       "        text-align: right;\n",
       "    }\n",
       "</style>\n",
       "<table border=\"1\" class=\"dataframe\">\n",
       "  <thead>\n",
       "    <tr style=\"text-align: right;\">\n",
       "      <th></th>\n",
       "      <th>spectral_centroid_mean</th>\n",
       "      <th>spectral_centroid_std</th>\n",
       "      <th>spectral_rolloff_mean</th>\n",
       "      <th>spectral_rolloff_std</th>\n",
       "      <th>spectral_flux_mean</th>\n",
       "      <th>spectral_flux_std</th>\n",
       "      <th>spectral_flatness_mean</th>\n",
       "      <th>spectral_flatness_std</th>\n",
       "      <th>spectral_crest_mean</th>\n",
       "      <th>spectral_crest_std</th>\n",
       "      <th>...</th>\n",
       "      <th>mfcc50</th>\n",
       "      <th>mfcc51</th>\n",
       "      <th>mfcc52</th>\n",
       "      <th>spectral_contrast1</th>\n",
       "      <th>spectral_contrast2</th>\n",
       "      <th>spectral_contrast3</th>\n",
       "      <th>spectral_contrast4</th>\n",
       "      <th>spectral_contrast5</th>\n",
       "      <th>spectral_contrast6</th>\n",
       "      <th>spectral_contrast7</th>\n",
       "    </tr>\n",
       "  </thead>\n",
       "  <tbody>\n",
       "    <tr>\n",
       "      <th>count</th>\n",
       "      <td>1000.000000</td>\n",
       "      <td>1000.000000</td>\n",
       "      <td>1000.000000</td>\n",
       "      <td>1000.000000</td>\n",
       "      <td>1000.000000</td>\n",
       "      <td>1000.000000</td>\n",
       "      <td>1000.000000</td>\n",
       "      <td>1000.000000</td>\n",
       "      <td>1000.000000</td>\n",
       "      <td>1000.000000</td>\n",
       "      <td>...</td>\n",
       "      <td>1000.000000</td>\n",
       "      <td>1000.000000</td>\n",
       "      <td>1000.000000</td>\n",
       "      <td>1000.000000</td>\n",
       "      <td>1000.000000</td>\n",
       "      <td>1000.000000</td>\n",
       "      <td>1000.000000</td>\n",
       "      <td>1000.000000</td>\n",
       "      <td>1000.000000</td>\n",
       "      <td>1000.000000</td>\n",
       "    </tr>\n",
       "    <tr>\n",
       "      <th>mean</th>\n",
       "      <td>2296.882621</td>\n",
       "      <td>586.688185</td>\n",
       "      <td>4784.647351</td>\n",
       "      <td>1165.377714</td>\n",
       "      <td>0.000053</td>\n",
       "      <td>0.000023</td>\n",
       "      <td>0.281621</td>\n",
       "      <td>0.077131</td>\n",
       "      <td>0.052802</td>\n",
       "      <td>0.026762</td>\n",
       "      <td>...</td>\n",
       "      <td>-2.961272</td>\n",
       "      <td>-1.287171</td>\n",
       "      <td>-0.128813</td>\n",
       "      <td>21.622877</td>\n",
       "      <td>16.304677</td>\n",
       "      <td>19.626889</td>\n",
       "      <td>19.326932</td>\n",
       "      <td>19.302102</td>\n",
       "      <td>18.788109</td>\n",
       "      <td>28.689134</td>\n",
       "    </tr>\n",
       "    <tr>\n",
       "      <th>std</th>\n",
       "      <td>722.335189</td>\n",
       "      <td>242.109733</td>\n",
       "      <td>1593.144938</td>\n",
       "      <td>459.044697</td>\n",
       "      <td>0.000020</td>\n",
       "      <td>0.000008</td>\n",
       "      <td>0.149121</td>\n",
       "      <td>0.038188</td>\n",
       "      <td>0.022872</td>\n",
       "      <td>0.013790</td>\n",
       "      <td>...</td>\n",
       "      <td>4.171299</td>\n",
       "      <td>4.862141</td>\n",
       "      <td>4.053424</td>\n",
       "      <td>4.007460</td>\n",
       "      <td>2.268336</td>\n",
       "      <td>2.777601</td>\n",
       "      <td>2.761451</td>\n",
       "      <td>2.556648</td>\n",
       "      <td>2.233744</td>\n",
       "      <td>11.293361</td>\n",
       "    </tr>\n",
       "    <tr>\n",
       "      <th>min</th>\n",
       "      <td>630.302812</td>\n",
       "      <td>120.513275</td>\n",
       "      <td>809.145107</td>\n",
       "      <td>191.907821</td>\n",
       "      <td>0.000010</td>\n",
       "      <td>0.000005</td>\n",
       "      <td>0.041616</td>\n",
       "      <td>0.010684</td>\n",
       "      <td>0.016650</td>\n",
       "      <td>0.005834</td>\n",
       "      <td>...</td>\n",
       "      <td>-21.545710</td>\n",
       "      <td>-30.284199</td>\n",
       "      <td>-10.309322</td>\n",
       "      <td>12.866975</td>\n",
       "      <td>10.641026</td>\n",
       "      <td>11.654762</td>\n",
       "      <td>13.945094</td>\n",
       "      <td>14.044483</td>\n",
       "      <td>14.606365</td>\n",
       "      <td>13.272827</td>\n",
       "    </tr>\n",
       "    <tr>\n",
       "      <th>25%</th>\n",
       "      <td>1756.405512</td>\n",
       "      <td>406.527914</td>\n",
       "      <td>3630.269715</td>\n",
       "      <td>817.806789</td>\n",
       "      <td>0.000040</td>\n",
       "      <td>0.000017</td>\n",
       "      <td>0.165929</td>\n",
       "      <td>0.046561</td>\n",
       "      <td>0.035138</td>\n",
       "      <td>0.016495</td>\n",
       "      <td>...</td>\n",
       "      <td>-5.359395</td>\n",
       "      <td>-4.018410</td>\n",
       "      <td>-2.842375</td>\n",
       "      <td>18.744988</td>\n",
       "      <td>14.687372</td>\n",
       "      <td>17.654559</td>\n",
       "      <td>17.447953</td>\n",
       "      <td>17.551469</td>\n",
       "      <td>17.152131</td>\n",
       "      <td>16.488043</td>\n",
       "    </tr>\n",
       "    <tr>\n",
       "      <th>50%</th>\n",
       "      <td>2302.790796</td>\n",
       "      <td>546.915943</td>\n",
       "      <td>4837.004085</td>\n",
       "      <td>1103.876207</td>\n",
       "      <td>0.000050</td>\n",
       "      <td>0.000021</td>\n",
       "      <td>0.239653</td>\n",
       "      <td>0.068310</td>\n",
       "      <td>0.048319</td>\n",
       "      <td>0.023505</td>\n",
       "      <td>...</td>\n",
       "      <td>-2.933870</td>\n",
       "      <td>-1.461173</td>\n",
       "      <td>-0.397219</td>\n",
       "      <td>20.865235</td>\n",
       "      <td>15.893058</td>\n",
       "      <td>19.132381</td>\n",
       "      <td>18.824427</td>\n",
       "      <td>18.789529</td>\n",
       "      <td>18.250999</td>\n",
       "      <td>31.746330</td>\n",
       "    </tr>\n",
       "    <tr>\n",
       "      <th>75%</th>\n",
       "      <td>2767.402603</td>\n",
       "      <td>731.543370</td>\n",
       "      <td>5717.632093</td>\n",
       "      <td>1454.475795</td>\n",
       "      <td>0.000065</td>\n",
       "      <td>0.000026</td>\n",
       "      <td>0.405905</td>\n",
       "      <td>0.105074</td>\n",
       "      <td>0.066207</td>\n",
       "      <td>0.034365</td>\n",
       "      <td>...</td>\n",
       "      <td>-0.560671</td>\n",
       "      <td>1.394128</td>\n",
       "      <td>2.246436</td>\n",
       "      <td>24.148579</td>\n",
       "      <td>17.633827</td>\n",
       "      <td>21.236681</td>\n",
       "      <td>20.750414</td>\n",
       "      <td>20.768784</td>\n",
       "      <td>19.947682</td>\n",
       "      <td>39.930024</td>\n",
       "    </tr>\n",
       "    <tr>\n",
       "      <th>max</th>\n",
       "      <td>4461.849487</td>\n",
       "      <td>1717.855352</td>\n",
       "      <td>8793.280162</td>\n",
       "      <td>3042.267729</td>\n",
       "      <td>0.000142</td>\n",
       "      <td>0.000060</td>\n",
       "      <td>0.629493</td>\n",
       "      <td>0.259798</td>\n",
       "      <td>0.141676</td>\n",
       "      <td>0.091879</td>\n",
       "      <td>...</td>\n",
       "      <td>19.069485</td>\n",
       "      <td>18.501060</td>\n",
       "      <td>17.306295</td>\n",
       "      <td>37.032863</td>\n",
       "      <td>24.976950</td>\n",
       "      <td>29.747542</td>\n",
       "      <td>30.072212</td>\n",
       "      <td>31.939762</td>\n",
       "      <td>27.956589</td>\n",
       "      <td>46.533713</td>\n",
       "    </tr>\n",
       "  </tbody>\n",
       "</table>\n",
       "<p>8 rows × 105 columns</p>\n",
       "</div>"
      ],
      "text/plain": [
       "       spectral_centroid_mean  spectral_centroid_std  spectral_rolloff_mean  \\\n",
       "count             1000.000000            1000.000000            1000.000000   \n",
       "mean              2296.882621             586.688185            4784.647351   \n",
       "std                722.335189             242.109733            1593.144938   \n",
       "min                630.302812             120.513275             809.145107   \n",
       "25%               1756.405512             406.527914            3630.269715   \n",
       "50%               2302.790796             546.915943            4837.004085   \n",
       "75%               2767.402603             731.543370            5717.632093   \n",
       "max               4461.849487            1717.855352            8793.280162   \n",
       "\n",
       "       spectral_rolloff_std  spectral_flux_mean  spectral_flux_std  \\\n",
       "count           1000.000000         1000.000000        1000.000000   \n",
       "mean            1165.377714            0.000053           0.000023   \n",
       "std              459.044697            0.000020           0.000008   \n",
       "min              191.907821            0.000010           0.000005   \n",
       "25%              817.806789            0.000040           0.000017   \n",
       "50%             1103.876207            0.000050           0.000021   \n",
       "75%             1454.475795            0.000065           0.000026   \n",
       "max             3042.267729            0.000142           0.000060   \n",
       "\n",
       "       spectral_flatness_mean  spectral_flatness_std  spectral_crest_mean  \\\n",
       "count             1000.000000            1000.000000          1000.000000   \n",
       "mean                 0.281621               0.077131             0.052802   \n",
       "std                  0.149121               0.038188             0.022872   \n",
       "min                  0.041616               0.010684             0.016650   \n",
       "25%                  0.165929               0.046561             0.035138   \n",
       "50%                  0.239653               0.068310             0.048319   \n",
       "75%                  0.405905               0.105074             0.066207   \n",
       "max                  0.629493               0.259798             0.141676   \n",
       "\n",
       "       spectral_crest_std  ...       mfcc50       mfcc51       mfcc52  \\\n",
       "count         1000.000000  ...  1000.000000  1000.000000  1000.000000   \n",
       "mean             0.026762  ...    -2.961272    -1.287171    -0.128813   \n",
       "std              0.013790  ...     4.171299     4.862141     4.053424   \n",
       "min              0.005834  ...   -21.545710   -30.284199   -10.309322   \n",
       "25%              0.016495  ...    -5.359395    -4.018410    -2.842375   \n",
       "50%              0.023505  ...    -2.933870    -1.461173    -0.397219   \n",
       "75%              0.034365  ...    -0.560671     1.394128     2.246436   \n",
       "max              0.091879  ...    19.069485    18.501060    17.306295   \n",
       "\n",
       "       spectral_contrast1  spectral_contrast2  spectral_contrast3  \\\n",
       "count         1000.000000         1000.000000         1000.000000   \n",
       "mean            21.622877           16.304677           19.626889   \n",
       "std              4.007460            2.268336            2.777601   \n",
       "min             12.866975           10.641026           11.654762   \n",
       "25%             18.744988           14.687372           17.654559   \n",
       "50%             20.865235           15.893058           19.132381   \n",
       "75%             24.148579           17.633827           21.236681   \n",
       "max             37.032863           24.976950           29.747542   \n",
       "\n",
       "       spectral_contrast4  spectral_contrast5  spectral_contrast6  \\\n",
       "count         1000.000000         1000.000000         1000.000000   \n",
       "mean            19.326932           19.302102           18.788109   \n",
       "std              2.761451            2.556648            2.233744   \n",
       "min             13.945094           14.044483           14.606365   \n",
       "25%             17.447953           17.551469           17.152131   \n",
       "50%             18.824427           18.789529           18.250999   \n",
       "75%             20.750414           20.768784           19.947682   \n",
       "max             30.072212           31.939762           27.956589   \n",
       "\n",
       "       spectral_contrast7  \n",
       "count         1000.000000  \n",
       "mean            28.689134  \n",
       "std             11.293361  \n",
       "min             13.272827  \n",
       "25%             16.488043  \n",
       "50%             31.746330  \n",
       "75%             39.930024  \n",
       "max             46.533713  \n",
       "\n",
       "[8 rows x 105 columns]"
      ]
     },
     "execution_count": 4,
     "metadata": {},
     "output_type": "execute_result"
    }
   ],
   "source": [
    "x,y=data.loc[:,(data.columns!=\"label\")],data[\"label\"].values\n",
    "x.describe()"
   ]
  },
  {
   "cell_type": "code",
   "execution_count": 20,
   "metadata": {},
   "outputs": [
    {
     "name": "stdout",
     "output_type": "stream",
     "text": [
      "spectral_centroid_mean\n",
      "spectral_centroid_std\n",
      "spectral_rolloff_mean\n",
      "spectral_rolloff_std\n",
      "spectral_flux_mean\n",
      "spectral_flux_std\n",
      "spectral_flatness_mean\n",
      "spectral_flatness_std\n",
      "spectral_crest_mean\n",
      "spectral_crest_std\n",
      "spectral_decrease_mean\n",
      "spectral_decrease_std\n",
      "spectral_kurtosis_mean\n",
      "spectral_kurtosis_std\n",
      "spectral_slope_mean\n",
      "spectral_slope_std\n",
      "spectral_skewness_mean\n",
      "spectral_skewness_std\n",
      "rms_mean\n",
      "rms_std\n",
      "spectral_crest_factor_mean\n",
      "spectral_crest_factor_std\n",
      "beat_histogram_mean\n",
      "beat_histogram_std\n",
      "zero_crossing_rate_mean\n",
      "zero_crossing_rate_std\n",
      "auto_corr_coeff_mean\n",
      "auto_corr_coeff_std\n",
      "spectral_spread_mean\n",
      "spectral_spread_std\n",
      "spectral_entropy\n",
      "spectral_tonal_power_ratio_mean\n",
      "spectral_tonal_power_ratio_std\n",
      "beat_histogram_sum\n",
      "chroma1\n",
      "chroma2\n",
      "chroma3\n",
      "chroma4\n",
      "chroma5\n",
      "chroma6\n",
      "chroma7\n",
      "chroma8\n",
      "chroma9\n",
      "chroma10\n",
      "chroma11\n",
      "chroma12\n",
      "mfcc1\n",
      "mfcc2\n",
      "mfcc3\n",
      "mfcc4\n",
      "mfcc5\n",
      "mfcc6\n",
      "mfcc7\n",
      "mfcc8\n",
      "mfcc9\n",
      "mfcc10\n",
      "mfcc11\n",
      "mfcc12\n",
      "mfcc13\n",
      "mfcc14\n",
      "mfcc15\n",
      "mfcc16\n",
      "mfcc17\n",
      "mfcc18\n",
      "mfcc19\n",
      "mfcc20\n",
      "mfcc21\n",
      "mfcc22\n",
      "mfcc23\n",
      "mfcc24\n",
      "mfcc25\n",
      "mfcc26\n",
      "mfcc27\n",
      "mfcc28\n",
      "mfcc29\n",
      "mfcc30\n",
      "mfcc31\n",
      "mfcc32\n",
      "mfcc33\n",
      "mfcc34\n",
      "mfcc35\n",
      "mfcc36\n",
      "mfcc37\n",
      "mfcc38\n",
      "mfcc39\n",
      "mfcc40\n",
      "mfcc41\n",
      "mfcc42\n",
      "mfcc43\n",
      "mfcc44\n",
      "mfcc45\n",
      "mfcc46\n",
      "mfcc47\n",
      "mfcc48\n",
      "mfcc49\n",
      "mfcc50\n",
      "mfcc51\n",
      "mfcc52\n",
      "spectral_contrast1\n",
      "spectral_contrast2\n",
      "spectral_contrast3\n",
      "spectral_contrast4\n",
      "spectral_contrast5\n",
      "spectral_contrast6\n",
      "spectral_contrast7\n"
     ]
    }
   ],
   "source": [
    "for j in x.columns:\n",
    "    print(j)"
   ]
  },
  {
   "cell_type": "markdown",
   "metadata": {},
   "source": [
    "## Models"
   ]
  },
  {
   "cell_type": "markdown",
   "metadata": {},
   "source": [
    "The following probabilistic models will be applied in order to try and perfom music genre reccognition\n",
    "- $k$ Nearest Neighbours ($k$NN)\n",
    "- Naive Bayes (NB)\n",
    "- Logistic Regression\n",
    "- Support Vector Machines (SVM)\n",
    "- Random Forest (RF)\n",
    "- Multililayer Perceptron (MLP)\n",
    "\n",
    "The perfomance of the above outlined models will be evaluated using $k$ fold cross validation. In our case we will use 10 fold cross validation. In which we split the dataset into $k$ subsets (called folds) then we perform training on the all the subsets but leave one subset for the evaluation of the trained model. In this method, we iterate $k$ times with a different subset reserved for testing purpose each time, and the perfomance of the model is recorded at each iteration in which the overall perfomance is the average of perfomance scores obtained over $k$ iterations."
   ]
  },
  {
   "cell_type": "markdown",
   "metadata": {},
   "source": [
    "### Feature normalization\n",
    "#### Normalization parameters"
   ]
  },
  {
   "cell_type": "code",
   "execution_count": 5,
   "metadata": {},
   "outputs": [],
   "source": [
    "def normalization_parameters(x):\n",
    "    mu = np.mean(x, axis=0)\n",
    "    std = np.std(x, axis=0)\n",
    "    return mu, std"
   ]
  },
  {
   "cell_type": "markdown",
   "metadata": {},
   "source": [
    "#### Normalize features"
   ]
  },
  {
   "cell_type": "code",
   "execution_count": 6,
   "metadata": {},
   "outputs": [],
   "source": [
    "def normalize_features(x, mu, std):\n",
    "    x = (x - mu) / (std + 1e-8)\n",
    "    return x"
   ]
  },
  {
   "cell_type": "code",
   "execution_count": 7,
   "metadata": {},
   "outputs": [],
   "source": [
    "mu, std = normalization_parameters(x)\n",
    "x_norm = normalize_features(x, mu, std)"
   ]
  },
  {
   "cell_type": "markdown",
   "metadata": {},
   "source": [
    "## Fitting  models\n",
    "\n",
    "Below we fit the outlined probabilistic models to have a baseline of their perfomance and then the best one will be picked and used for feature selection abd further perfomance evaluation."
   ]
  },
  {
   "cell_type": "markdown",
   "metadata": {},
   "source": [
    "### $k$NN \n",
    "$k$ nearest neighbours classifier, the distance metric is the euclidean  distance and distance weighting is used. To determine the parameter $k$ we perfom a parameter sweep in the following search space $\\{3,5,7,9,....,15\\}$."
   ]
  },
  {
   "cell_type": "code",
   "execution_count": 8,
   "metadata": {},
   "outputs": [
    {
     "name": "stdout",
     "output_type": "stream",
     "text": [
      "10 fold cross validation results\n",
      "7 nearest neighbours\n",
      "Fit time : 0.0013802766799926758\n",
      "Accuracy: 0.70 (+/- 0.03)\n"
     ]
    }
   ],
   "source": [
    "k_space = [2*i+1 for i in range(1,8)]\n",
    "peak_score = -1\n",
    "std = -1\n",
    "optimal_k = -1\n",
    "\n",
    "for k in k_space:\n",
    "    knn = KNeighborsClassifier(n_neighbors=k,algorithm=\"brute\",weights=\"distance\",metric=\"manhattan\")\n",
    "    knn.fit(x_norm,y)\n",
    "    scores = cross_validate(knn, x_norm, y, scoring='accuracy', cv=10,return_train_score=True)\n",
    "    score = scores[\"test_score\"].mean()\n",
    "    \n",
    "    if score>peak_score:\n",
    "        peak_score = score\n",
    "        std = scores[\"test_score\"].std()\n",
    "        optimal_k = k\n",
    "        scores_recall = scores\n",
    "        \n",
    "print(\"10 fold cross validation results\")\n",
    "print(optimal_k,\"nearest neighbours\")\n",
    "print(\"Fit time :\",scores_recall[\"fit_time\"].mean())\n",
    "print(\"Accuracy: %0.2f (+/- %0.2f)\" % (peak_score,std))"
   ]
  },
  {
   "cell_type": "markdown",
   "metadata": {},
   "source": [
    "### Naive Bayes (NB)\n",
    "Gaussian naive bayes with smoothing."
   ]
  },
  {
   "cell_type": "code",
   "execution_count": 9,
   "metadata": {},
   "outputs": [
    {
     "name": "stdout",
     "output_type": "stream",
     "text": [
      "10 fold cross validation results\n",
      "Fitting time : 0.0023026227951049804\n",
      "Accuracy: 0.59 (+/- 0.04)\n"
     ]
    }
   ],
   "source": [
    "naive_bayes = GaussianNB()\n",
    "naive_bayes.fit(x_norm, y)\n",
    "scores = cross_validate(naive_bayes, x_norm, y, scoring=\"accuracy\", cv=10)\n",
    "print(\"10 fold cross validation results\")\n",
    "print(\"Fitting time :\",scores[\"fit_time\"].mean())\n",
    "print(\"Accuracy: %0.2f (+/- %0.2f)\" % (scores[\"test_score\"].mean(),scores[\"test_score\"].std()))"
   ]
  },
  {
   "cell_type": "markdown",
   "metadata": {},
   "source": [
    "### Logistic regression (LR)\n",
    "Logistic regression which uses the one vs all strategy for multiclass classification. The optimizer is lbfgs with default tolerance of $10^{-4}$, default number of iterations which is $500$."
   ]
  },
  {
   "cell_type": "code",
   "execution_count": 10,
   "metadata": {},
   "outputs": [
    {
     "name": "stdout",
     "output_type": "stream",
     "text": [
      "10 fold cross validation results\n",
      "Fitting time : 0.11236419677734374\n",
      "Accuracy: 0.76 (+/- 0.04)\n"
     ]
    }
   ],
   "source": [
    "logistic_regression = LogisticRegression(random_state=1,solver=\"newton-cg\",C=1.1,max_iter=500)\n",
    "logistic_regression.fit(x_norm, y)\n",
    "scores = cross_validate(logistic_regression, x_norm, y, scoring=\"accuracy\",cv=10)\n",
    "print(\"10 fold cross validation results\")\n",
    "print(\"Fitting time :\",scores[\"fit_time\"].mean())\n",
    "print(\"Accuracy: %0.2f (+/- %0.2f)\" % (scores[\"test_score\"].mean(),scores[\"test_score\"].std()))"
   ]
  },
  {
   "cell_type": "markdown",
   "metadata": {},
   "source": [
    "### Support Vector Machine (SVM)\n",
    "Support vector machine with a radial basis function kernel. The regularization strength is set to $\\frac{1}{C}$ with $C>0$. The optimal value for $C$ is found by a parameter sweep in the space $\\{1,2,3,..,8\\}$."
   ]
  },
  {
   "cell_type": "code",
   "execution_count": 11,
   "metadata": {},
   "outputs": [
    {
     "name": "stdout",
     "output_type": "stream",
     "text": [
      "10 fold cross validation results\n",
      "Optimal regularization C = 6\n",
      "Fit time : 0.14881703853607178\n",
      "Test scores : [0.74 0.79 0.75 0.81 0.77 0.83 0.73 0.73 0.84 0.83]\n",
      "Accuracy: 0.78 (+/- 0.04)\n"
     ]
    }
   ],
   "source": [
    "regularization_parameters=np.arange(1,9,1)\n",
    "peak_score = -1\n",
    "scores_recall = -1\n",
    "for c in regularization_parameters:\n",
    "    support_vector_machine = svm.SVC(kernel=\"rbf\",break_ties=False,C=c)\n",
    "    support_vector_machine.fit(x_norm, y)\n",
    "    scores = cross_validate(support_vector_machine, x_norm, y, scoring=\"accuracy\",cv=10)\n",
    "    score = scores[\"test_score\"].mean()\n",
    "    \n",
    "    if score>peak_score:\n",
    "        peak_score=score\n",
    "        std=scores[\"test_score\"].std()\n",
    "        scores_recall=scores\n",
    "        optimal_c=c\n",
    "        \n",
    "print(\"10 fold cross validation results\")\n",
    "print(\"Optimal regularization C =\" , optimal_c)\n",
    "print(\"Fit time :\",scores_recall[\"fit_time\"].mean())\n",
    "print(\"Test scores :\",scores_recall[\"test_score\"])\n",
    "print(\"Accuracy: %0.2f (+/- %0.2f)\" % (peak_score,std))"
   ]
  },
  {
   "cell_type": "markdown",
   "metadata": {},
   "source": [
    "### Random forest\n",
    "Random forest in which we us the entropy function to measure the quality of a split. The maximum depth is $100$."
   ]
  },
  {
   "cell_type": "code",
   "execution_count": 12,
   "metadata": {},
   "outputs": [
    {
     "name": "stdout",
     "output_type": "stream",
     "text": [
      "10 fold cross validation results\n",
      "Fit time : 1.472031569480896\n",
      "Accuracy: 0.72 (+/- 0.03)\n"
     ]
    }
   ],
   "source": [
    "random_forest = RandomForestClassifier(max_depth=100,random_state=0,criterion=\"entropy\")\n",
    "random_forest.fit(x_norm,y)\n",
    "scores = cross_validate(random_forest, x_norm, y, scoring=\"accuracy\",cv=10)\n",
    "print(\"10 fold cross validation results\")\n",
    "print(\"Fit time :\",scores[\"fit_time\"].mean())\n",
    "print(\"Accuracy: %0.2f (+/- %0.2f)\" % (scores[\"test_score\"].mean(),scores[\"test_score\"].std()))"
   ]
  },
  {
   "cell_type": "markdown",
   "metadata": {},
   "source": [
    "### Multilayer Perceptron\n",
    "Multilayer perceptron in which the activation function for all neurons is the relu function. The network architecture is such that we have 2 hidden layers which the first consist of 52 neurons which is approximatley half the number of input neurons and the second consist of 10 neurons which is the number of classes. The newtwork learning rate is fixed at $0.02$ and uses the adam optimizer."
   ]
  },
  {
   "cell_type": "code",
   "execution_count": 13,
   "metadata": {},
   "outputs": [
    {
     "name": "stdout",
     "output_type": "stream",
     "text": [
      "10 fold cross validation results\n",
      "Fit time : 0.18280422687530518\n",
      "Accuracy: 0.74 (+/- 0.04)\n"
     ]
    }
   ],
   "source": [
    "multilayer_perceptron = MLPClassifier(activation=\"relu\",learning_rate=\"constant\",learning_rate_init=0.02,random_state=1, max_iter=300,\n",
    "                                      hidden_layer_sizes=(52,10),solver=\"adam\")\n",
    "multilayer_perceptron.fit(x_norm,y)\n",
    "scores = cross_validate(multilayer_perceptron, x_norm, y, scoring=\"accuracy\",cv=10)\n",
    "print(\"10 fold cross validation results\")\n",
    "print(\"Fit time :\",scores[\"fit_time\"].mean())\n",
    "print(\"Accuracy: %0.2f (+/- %0.2f)\" % (scores[\"test_score\"].mean(),scores[\"test_score\"].std()))"
   ]
  },
  {
   "cell_type": "markdown",
   "metadata": {},
   "source": [
    "## Dimensionality reduction\n",
    "\n",
    "Dimensionally reduction is helpful in selecting and keeping features tha have strong discrinibating power in the dataset. Reducing the dimensionality reduces time taken to train and fit model and redundant patterns and noise is removed from the data."
   ]
  },
  {
   "cell_type": "markdown",
   "metadata": {},
   "source": [
    "###  Dimensionality Reduction by Mutual Information\n",
    "\n",
    "Dimensionality reduction is perfomed using a mutual information based technique. In which we want to keep features that give maximum amount of information about our target variable (class label). "
   ]
  },
  {
   "cell_type": "code",
   "execution_count": 14,
   "metadata": {},
   "outputs": [],
   "source": [
    "features=np.array([feature for feature in x_norm.columns])\n",
    "information_gain=mutual_info_classif(x_norm, y,n_neighbors=3)\n",
    "idx=np.argsort(information_gain)[::-1]\n",
    "information_gain=information_gain[idx]\n",
    "features=features[idx]"
   ]
  },
  {
   "cell_type": "markdown",
   "metadata": {},
   "source": [
    "We now continuosly add features with accordance to their mutual information gain until model perfomance starts to flatten out in order to get a cut off point."
   ]
  },
  {
   "cell_type": "code",
   "execution_count": 89,
   "metadata": {},
   "outputs": [
    {
     "name": "stdout",
     "output_type": "stream",
     "text": [
      "Number of features kept: 54\n",
      "Number of features: removed 51\n",
      "Accuracy: 0.81 (+/- 0.04)\n"
     ]
    },
    {
     "data": {
      "image/png": "[encoded data removed]",
      "text/plain": [
       "<Figure size 1008x504 with 1 Axes>"
      ]
     },
     "metadata": {
      "needs_background": "light"
     },
     "output_type": "display_data"
    }
   ],
   "source": [
    "# number_of_features=np.arange(1,len(features)+1)\n",
    "# accuracy=np.zeros(len(features))\n",
    "# std=np.zeros(len(features))\n",
    "\n",
    "# for i in range(1,len(features)):\n",
    "#     x_norm_pruned=x_norm[(features[:i])]\n",
    "#     support_vector_machine = svm.SVC(kernel=\"rbf\",C=6)\n",
    "#     support_vector_machine.fit(x_norm_pruned, y)\n",
    "#     scores = cross_validate(support_vector_machine, x_norm_pruned, y, scoring=\"accuracy\",cv=10)\n",
    "#     accuracy[i]=scores[\"test_score\"].mean()\n",
    "#     std[i]=scores[\"test_score\"].std()\n",
    "    \n",
    "index=np.argsort(accuracy)\n",
    "print(\"Number of features kept:\",index[-1])\n",
    "print(\"Number of features: removed\",len(idx)-index[-1])\n",
    "print(\"Accuracy: %0.2f (+/- %0.2f)\" % (accuracy[index[-1]],std[-1]))\n",
    "plt.figure(figsize=(14,9))\n",
    "plt.grid(True)\n",
    "plt.rc('xtick',labelsize=15)\n",
    "plt.rc('ytick',labelsize=15)\n",
    "plt.xlabel(\"Number of features\",fontsize=20)\n",
    "plt.ylabel(\"% Accuracy\",fontsize=20)\n",
    "\n",
    "plt.scatter(number_of_features,accuracy*100,c=\"green\")\n",
    "plt.plot(number_of_features,accuracy*100,c=\"green\")\n",
    "plt.vlines(x=55,ymin=0,ymax=95,linestyles=\"dashed\",color=\"red\")\n",
    "plt.savefig(\"accuracy_graph.png\")\n",
    "plt.show()\n"
   ]
  },
  {
   "cell_type": "code",
   "execution_count": 48,
   "metadata": {},
   "outputs": [
    {
     "name": "stdout",
     "output_type": "stream",
     "text": [
      "0.8049999999999999\n"
     ]
    }
   ],
   "source": [
    "print(accuracy[55])"
   ]
  },
  {
   "cell_type": "code",
   "execution_count": null,
   "metadata": {},
   "outputs": [],
   "source": []
  },
  {
   "cell_type": "markdown",
   "metadata": {},
   "source": [
    "### Best feature subset"
   ]
  },
  {
   "cell_type": "code",
   "execution_count": 21,
   "metadata": {},
   "outputs": [
    {
     "name": "stdout",
     "output_type": "stream",
     "text": [
      "54\n"
     ]
    }
   ],
   "source": [
    "print(len(optimal_features))"
   ]
  },
  {
   "cell_type": "code",
   "execution_count": 16,
   "metadata": {},
   "outputs": [
    {
     "name": "stdout",
     "output_type": "stream",
     "text": [
      "spectral_contrast5 , mutual information : 0.5623211196258615\n",
      "spectral_contrast4 , mutual information : 0.5084518220219452\n",
      "spectral_contrast7 , mutual information : 0.4625039367802155\n",
      "spectral_rolloff_mean , mutual information : 0.45895553365860353\n",
      "spectral_flatness_mean , mutual information : 0.41448751457209765\n",
      "spectral_centroid_mean , mutual information : 0.4028711606617521\n",
      "spectral_contrast3 , mutual information : 0.40286893992648043\n",
      "mfcc1 , mutual information : 0.38362029227418226\n",
      "rms_mean , mutual information : 0.38310935641125266\n",
      "rms_std , mutual information : 0.3782258048716032\n",
      "spectral_skewness_mean , mutual information : 0.374895499279305\n",
      "spectral_flatness_std , mutual information : 0.3690723906304201\n",
      "spectral_centroid_std , mutual information : 0.3501221807448536\n",
      "spectral_kurtosis_std , mutual information : 0.3356906851522492\n",
      "spectral_kurtosis_mean , mutual information : 0.3353773359140044\n",
      "spectral_contrast6 , mutual information : 0.3313731930628556\n",
      "mfcc2 , mutual information : 0.3286351128168752\n",
      "mfcc4 , mutual information : 0.32143701947217274\n",
      "spectral_spread_std , mutual information : 0.31538438029903393\n",
      "spectral_contrast2 , mutual information : 0.3076470098476123\n",
      "spectral_flux_std , mutual information : 0.30509888244057315\n",
      "spectral_crest_mean , mutual information : 0.2908901728865967\n",
      "spectral_contrast1 , mutual information : 0.28803661233088507\n",
      "spectral_crest_std , mutual information : 0.2864798414215861\n",
      "auto_corr_coeff_mean , mutual information : 0.2833618190823053\n",
      "mfcc8 , mutual information : 0.28232578394733654\n",
      "spectral_flux_mean , mutual information : 0.28175819162577476\n",
      "mfcc12 , mutual information : 0.2738454959219454\n",
      "mfcc6 , mutual information : 0.27135271582068876\n",
      "spectral_slope_std , mutual information : 0.2647601747162769\n",
      "mfcc13 , mutual information : 0.2625900471435516\n",
      "zero_crossing_rate_std , mutual information : 0.2572802041004869\n",
      "zero_crossing_rate_mean , mutual information : 0.2551489730903631\n",
      "spectral_skewness_std , mutual information : 0.25359846460899016\n",
      "beat_histogram_sum , mutual information : 0.2533995833237457\n",
      "beat_histogram_mean , mutual information : 0.2518813625201308\n",
      "mfcc17 , mutual information : 0.24471162765786625\n",
      "spectral_decrease_std , mutual information : 0.24348914518187126\n",
      "mfcc7 , mutual information : 0.24242277818295488\n",
      "beat_histogram_std , mutual information : 0.24193835721085577\n",
      "spectral_rolloff_std , mutual information : 0.24074358061004775\n",
      "spectral_spread_mean , mutual information : 0.2395179071296063\n",
      "mfcc9 , mutual information : 0.23881414781552746\n",
      "spectral_decrease_mean , mutual information : 0.23620999921967734\n",
      "spectral_slope_mean , mutual information : 0.22995239329733597\n",
      "mfcc15 , mutual information : 0.22452663424004005\n",
      "mfcc5 , mutual information : 0.21595744211314472\n",
      "mfcc3 , mutual information : 0.20641641036816827\n",
      "auto_corr_coeff_std , mutual information : 0.19746367459315373\n",
      "mfcc51 , mutual information : 0.1932568203424161\n",
      "mfcc10 , mutual information : 0.19302320266384543\n",
      "mfcc52 , mutual information : 0.1912593991522189\n",
      "mfcc23 , mutual information : 0.19054949617432815\n",
      "spectral_entropy , mutual information : 0.18829894358356158\n"
     ]
    }
   ],
   "source": [
    "idx=np.argsort(accuracy)[::-1]\n",
    "optimal_features=(features[0:idx[0]])\n",
    "for i in range(len(optimal_features)):\n",
    "    print(optimal_features[i],\",\",\"mutual information :\",information_gain[i])"
   ]
  },
  {
   "cell_type": "markdown",
   "metadata": {},
   "source": [
    "### Save model and pruned feature set"
   ]
  },
  {
   "cell_type": "code",
   "execution_count": 18,
   "metadata": {},
   "outputs": [],
   "source": [
    "x_norm_pruned=x_norm[optimal_features].copy()\n",
    "support_vector_machine = svm.SVC(kernel=\"rbf\",C=6,probability=True)\n",
    "support_vector_machine.fit(x_norm_pruned, y)\n",
    "logistic_regression = LogisticRegression(random_state=1,solver=\"newton-cg\",C=1.1,max_iter=500)\n",
    "logistic_regression.fit(x_norm_pruned, y)\n",
    "multilayer_perceptron = MLPClassifier(activation=\"relu\",learning_rate=\"constant\",learning_rate_init=0.02,random_state=1, max_iter=300,\n",
    "                                      hidden_layer_sizes=(52,10),solver=\"adam\")\n",
    "multilayer_perceptron.fit(x_norm_pruned,y)\n",
    "random_forest = RandomForestClassifier(max_depth=100,random_state=0,criterion=\"entropy\")\n",
    "random_forest.fit(x_norm_pruned,y)\n",
    "dump(support_vector_machine, '../models/svm.joblib')\n",
    "dump(logistic_regression,'../models/lgr.joblib')\n",
    "dump(multilayer_perceptron,'../models/mlp.joblib')\n",
    "dump(random_forest,'../models/rf.joblib')\n",
    "x_norm_pruned[\"label\"]=y\n",
    "x_norm_pruned.to_csv(\"../data/gtzan/features/features_pruned.csv\",index=False)"
   ]
  }
 ],
 "metadata": {
  "kernelspec": {
   "display_name": "Python 3",
   "language": "python",
   "name": "python3"
  },
  "language_info": {
   "codemirror_mode": {
    "name": "ipython",
    "version": 3
   },
   "file_extension": ".py",
   "mimetype": "text/x-python",
   "name": "python",
   "nbconvert_exporter": "python",
   "pygments_lexer": "ipython3",
   "version": "3.7.7"
  }
 },
 "nbformat": 4,
 "nbformat_minor": 4
}
